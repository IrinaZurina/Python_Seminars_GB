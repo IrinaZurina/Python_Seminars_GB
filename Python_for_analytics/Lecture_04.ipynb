{
 "cells": [
  {
   "cell_type": "code",
   "execution_count": 1,
   "metadata": {
    "collapsed": true
   },
   "outputs": [],
   "source": [
    "import numpy as np\n",
    "import pandas as pd\n",
    "import matplotlib.pyplot as plt\n",
    "import seaborn as sns"
   ]
  },
  {
   "cell_type": "code",
   "execution_count": 2,
   "outputs": [
    {
     "data": {
      "text/plain": "   age         job  marital  education default  balance housing loan  contact  \\\n0   59      admin.  married  secondary      no     2343     yes   no  unknown   \n1   56      admin.  married  secondary      no       45      no   no  unknown   \n2   41  technician  married  secondary      no     1270     yes   no  unknown   \n3   55    services  married  secondary      no     2476     yes   no  unknown   \n4   54      admin.  married   tertiary      no      184      no   no  unknown   \n\n   day month  duration  campaign  pdays  previous poutcome deposit  \n0    5   may      1042         1     -1         0  unknown     yes  \n1    5   may      1467         1     -1         0  unknown     yes  \n2    5   may      1389         1     -1         0  unknown     yes  \n3    5   may       579         1     -1         0  unknown     yes  \n4    5   may       673         2     -1         0  unknown     yes  ",
      "text/html": "<div>\n<style scoped>\n    .dataframe tbody tr th:only-of-type {\n        vertical-align: middle;\n    }\n\n    .dataframe tbody tr th {\n        vertical-align: top;\n    }\n\n    .dataframe thead th {\n        text-align: right;\n    }\n</style>\n<table border=\"1\" class=\"dataframe\">\n  <thead>\n    <tr style=\"text-align: right;\">\n      <th></th>\n      <th>age</th>\n      <th>job</th>\n      <th>marital</th>\n      <th>education</th>\n      <th>default</th>\n      <th>balance</th>\n      <th>housing</th>\n      <th>loan</th>\n      <th>contact</th>\n      <th>day</th>\n      <th>month</th>\n      <th>duration</th>\n      <th>campaign</th>\n      <th>pdays</th>\n      <th>previous</th>\n      <th>poutcome</th>\n      <th>deposit</th>\n    </tr>\n  </thead>\n  <tbody>\n    <tr>\n      <th>0</th>\n      <td>59</td>\n      <td>admin.</td>\n      <td>married</td>\n      <td>secondary</td>\n      <td>no</td>\n      <td>2343</td>\n      <td>yes</td>\n      <td>no</td>\n      <td>unknown</td>\n      <td>5</td>\n      <td>may</td>\n      <td>1042</td>\n      <td>1</td>\n      <td>-1</td>\n      <td>0</td>\n      <td>unknown</td>\n      <td>yes</td>\n    </tr>\n    <tr>\n      <th>1</th>\n      <td>56</td>\n      <td>admin.</td>\n      <td>married</td>\n      <td>secondary</td>\n      <td>no</td>\n      <td>45</td>\n      <td>no</td>\n      <td>no</td>\n      <td>unknown</td>\n      <td>5</td>\n      <td>may</td>\n      <td>1467</td>\n      <td>1</td>\n      <td>-1</td>\n      <td>0</td>\n      <td>unknown</td>\n      <td>yes</td>\n    </tr>\n    <tr>\n      <th>2</th>\n      <td>41</td>\n      <td>technician</td>\n      <td>married</td>\n      <td>secondary</td>\n      <td>no</td>\n      <td>1270</td>\n      <td>yes</td>\n      <td>no</td>\n      <td>unknown</td>\n      <td>5</td>\n      <td>may</td>\n      <td>1389</td>\n      <td>1</td>\n      <td>-1</td>\n      <td>0</td>\n      <td>unknown</td>\n      <td>yes</td>\n    </tr>\n    <tr>\n      <th>3</th>\n      <td>55</td>\n      <td>services</td>\n      <td>married</td>\n      <td>secondary</td>\n      <td>no</td>\n      <td>2476</td>\n      <td>yes</td>\n      <td>no</td>\n      <td>unknown</td>\n      <td>5</td>\n      <td>may</td>\n      <td>579</td>\n      <td>1</td>\n      <td>-1</td>\n      <td>0</td>\n      <td>unknown</td>\n      <td>yes</td>\n    </tr>\n    <tr>\n      <th>4</th>\n      <td>54</td>\n      <td>admin.</td>\n      <td>married</td>\n      <td>tertiary</td>\n      <td>no</td>\n      <td>184</td>\n      <td>no</td>\n      <td>no</td>\n      <td>unknown</td>\n      <td>5</td>\n      <td>may</td>\n      <td>673</td>\n      <td>2</td>\n      <td>-1</td>\n      <td>0</td>\n      <td>unknown</td>\n      <td>yes</td>\n    </tr>\n  </tbody>\n</table>\n</div>"
     },
     "execution_count": 2,
     "metadata": {},
     "output_type": "execute_result"
    }
   ],
   "source": [
    "df = pd.read_csv('bank.csv')\n",
    "df.head()"
   ],
   "metadata": {
    "collapsed": false
   }
  },
  {
   "cell_type": "code",
   "execution_count": null,
   "outputs": [],
   "source": [
    "plt.figure(figsize=(8, 6))\n",
    "plt.plot([0, 1, 2, 3], [10, 9, 6, 1])\n",
    "plt.xlabel('x')\n",
    "plt.ylabel('y')\n",
    "plt.title('Example')\n",
    "plt.grid();"
   ],
   "metadata": {
    "collapsed": false
   }
  },
  {
   "cell_type": "code",
   "execution_count": null,
   "outputs": [],
   "source": [
    "# Готовим данные для графика в виде сводной таблицы\n",
    "\n",
    "data = df.groupby('month')['job'].agg(count='count').reset_index().sort_values(by='month')\n",
    "data.head()"
   ],
   "metadata": {
    "collapsed": false
   }
  },
  {
   "cell_type": "code",
   "execution_count": null,
   "outputs": [],
   "source": [
    "plt.figure(figsize=(6, 4))\n",
    "\n",
    "plt.plot(data['month'], data['count'])\n",
    "\n",
    "plt.title('Динамика охвата рекламных кампаний')\n",
    "plt.xlabel('Месяц')\n",
    "plt.ylabel('Кол-во клиентов');"
   ],
   "metadata": {
    "collapsed": false
   }
  },
  {
   "cell_type": "code",
   "execution_count": null,
   "outputs": [],
   "source": [
    "plt.figure(figsize=(6, 4))\n",
    "\n",
    "sns.lineplot(x=data['month'], y=data['count'])\n",
    "\n",
    "plt.title('Динамика охвата рекламных кампаний')\n",
    "plt.xlabel('Месяц')\n",
    "plt.ylabel('Кол-во клиентов');"
   ],
   "metadata": {
    "collapsed": false
   }
  },
  {
   "cell_type": "code",
   "execution_count": null,
   "outputs": [],
   "source": [
    "plt.figure(figsize=(6, 4))\n",
    "\n",
    "plt.hist(df['age'], bins=15)\n",
    "\n",
    "plt.title('Возраст клиентов банка')\n",
    "plt.xlabel('Интервал, лет')\n",
    "plt.ylabel('Кол-во клиентов')"
   ],
   "metadata": {
    "collapsed": false
   }
  },
  {
   "cell_type": "code",
   "execution_count": null,
   "outputs": [],
   "source": [
    "plt.figure(figsize=(6, 4))\n",
    "\n",
    "sns.histplot(df['age'], bins=15)\n",
    "\n",
    "plt.title('Возраст клиентов банка')\n",
    "plt.xlabel('Интервал, лет')\n",
    "plt.ylabel('Кол-во клиентов');"
   ],
   "metadata": {
    "collapsed": false
   }
  },
  {
   "cell_type": "code",
   "execution_count": null,
   "outputs": [],
   "source": [
    "# Готовим данные для графика в виде сводной таблицы\n",
    "data = df.groupby('age')['convert'].sum().reset_index()\n",
    "data.head()"
   ],
   "metadata": {
    "collapsed": false
   }
  },
  {
   "cell_type": "code",
   "execution_count": null,
   "outputs": [],
   "source": [
    "plt.figure(figsize=(6, 4))\n",
    "\n",
    "plt.scatter(data['age'], data['convert'])\n",
    "\n",
    "plt.title('График разброса значений')\n",
    "plt.xlabel('Возраст')\n",
    "plt.ylabel('Покупки');"
   ],
   "metadata": {
    "collapsed": false
   }
  },
  {
   "cell_type": "code",
   "execution_count": null,
   "outputs": [],
   "source": [
    "plt.figure(figsize=(6, 4))\n",
    "\n",
    "sns.scatterplot(x=data['age'], y=data['convert'])\n",
    "\n",
    "plt.title('График разброса значений')\n",
    "plt.xlabel('Возраст')\n",
    "plt.ylabel('Покупки');"
   ],
   "metadata": {
    "collapsed": false
   }
  },
  {
   "cell_type": "code",
   "execution_count": null,
   "outputs": [],
   "source": [
    "# Готовим данные для графика\n",
    "data = df['job'].value_counts().reset_index()\n",
    "data.head()"
   ],
   "metadata": {
    "collapsed": false
   }
  },
  {
   "cell_type": "code",
   "execution_count": null,
   "outputs": [],
   "source": [
    "plt.figure(figsize=(6, 4))\n",
    "\n",
    "plt.bar(data['index'], data['job'])\n",
    "\n",
    "plt.title('Род занятий клиентов банка')\n",
    "plt.xlabel('Род занятий')\n",
    "plt.ylabel('Кол-во')\n",
    "plt.xticks(rotation=30);"
   ],
   "metadata": {
    "collapsed": false
   }
  },
  {
   "cell_type": "code",
   "execution_count": null,
   "outputs": [],
   "source": [
    "plt.figure(figsize=(6, 4))\n",
    "\n",
    "sns.barplot(x=data['index'], y=data['job'])\n",
    "\n",
    "plt.title('Род занятий клиентов банка')\n",
    "plt.xlabel('Род занятий')\n",
    "plt.ylabel('Кол-во')\n",
    "plt.xticks(rotation=30);"
   ],
   "metadata": {
    "collapsed": false
   }
  },
  {
   "cell_type": "code",
   "execution_count": null,
   "outputs": [],
   "source": [
    "# Готовим данные для графика\n",
    "data = pd.crosstab(df['job'], df['convert']).reset_index().sort_values(by=0, ascending=False)\n",
    "data.rename(columns={0: 'no', 1: 'yes'}, inplace=True)\n",
    "data.head()"
   ],
   "metadata": {
    "collapsed": false
   }
  },
  {
   "cell_type": "code",
   "execution_count": null,
   "outputs": [],
   "source": [
    "# Строим столбчатую многорядную диаграмму\n",
    "\n",
    "plt.figure(figsize=(8, 6))\n",
    "\n",
    "# определяем кол-во делений\n",
    "n_ticks = np.arange(len(data['no']))\n",
    "\n",
    "# определяем сдвиг\n",
    "offset = 0.2\n",
    "\n",
    "# определяем ширину столбцов\n",
    "w = 0.4\n",
    "\n",
    "# добавляем сдвиг к кол-ву делений\n",
    "plt.bar(n_ticks - offset, data['no'], width=w)\n",
    "plt.bar(n_ticks + offset, data['yes'], width=w)\n",
    "\n",
    "plt.title('Род занятий клиентов банка, открывших депозит')\n",
    "plt.xlabel('Род занятий')\n",
    "plt.ylabel('Кол-во')\n",
    "plt.legend(['no', 'yes'])\n",
    "plt.xticks(n_ticks, data['job'], rotation = 30);  # добавляем метки делений"
   ],
   "metadata": {
    "collapsed": false
   }
  },
  {
   "cell_type": "code",
   "execution_count": null,
   "outputs": [],
   "source": [
    "# Готовим данные для графика\n",
    "data = pd.crosstab(df['job'], df['convert'], normalize='index').reset_index().sort_values(by=0, ascending=False)\n",
    "data.rename(columns={0: 'no', 1: 'yes'}, inplace=True)\n",
    "data.head()"
   ],
   "metadata": {
    "collapsed": false
   }
  },
  {
   "cell_type": "code",
   "execution_count": null,
   "outputs": [],
   "source": [
    "# Строим столбчатую многорядную сложенную диаграмму\n",
    "\n",
    "plt.figure(figsize=(8, 6))\n",
    "\n",
    "plt.bar(data['job'], data['no'])\n",
    "plt.bar(data['job'], data['yes'], bottom=data['no'])\n",
    "\n",
    "plt.title('Род занятий клиентов банка, открывших депозит')\n",
    "plt.xlabel('Род занятий')\n",
    "plt.ylabel('Доля клиентов')\n",
    "plt.legend(['no', 'yes'])\n",
    "plt.xticks(rotation = 30);"
   ],
   "metadata": {
    "collapsed": false
   }
  },
  {
   "cell_type": "code",
   "execution_count": null,
   "outputs": [],
   "source": [
    "# Готовим данные для графика\n",
    "data1 = df['duration'][df['convert'] == 1]\n",
    "data2 = df['duration'][df['convert'] == 0]\n",
    "data1.head()"
   ],
   "metadata": {
    "collapsed": false
   }
  },
  {
   "cell_type": "code",
   "execution_count": null,
   "outputs": [],
   "source": [
    "plt.figure(figsize=(6, 4))\n",
    "\n",
    "sns.boxplot(data=[data1]);"
   ],
   "metadata": {
    "collapsed": false
   }
  },
  {
   "cell_type": "code",
   "execution_count": null,
   "outputs": [],
   "source": [
    "# Строим боксплот\n",
    "\n",
    "plt.figure(figsize=(6, 4))\n",
    "\n",
    "plt.boxplot([data1, data2])\n",
    "\n",
    "plt.title('Время последнего контакта')\n",
    "plt.xlabel('Совершили покупку')\n",
    "plt.ylabel('Время в секундах')\n",
    "plt.xticks([1, 2], ['yes', 'no']);"
   ],
   "metadata": {
    "collapsed": false
   }
  },
  {
   "cell_type": "code",
   "execution_count": null,
   "outputs": [],
   "source": [
    "# Строим боксплот без выбросов\n",
    "\n",
    "plt.figure(figsize=(6, 4))\n",
    "\n",
    "plt.boxplot([data1, data2], showfliers=False)\n",
    "\n",
    "plt.title('Время последнего контакта')\n",
    "plt.xlabel('Совершили покупку')\n",
    "\n",
    "plt.ylabel('Время в секундах')\n",
    "plt.xticks([1, 2], ['yes', 'no']);"
   ],
   "metadata": {
    "collapsed": false
   }
  },
  {
   "cell_type": "code",
   "execution_count": null,
   "outputs": [],
   "source": [
    "# Строим боксплот без выбросов\n",
    "\n",
    "plt.figure(figsize=(6, 4))\n",
    "\n",
    "sns.boxplot(data=[data1, data2], showfliers=False)\n",
    "\n",
    "plt.title('Время последнего контакта')\n",
    "plt.xlabel('Совершили покупку')\n",
    "\n",
    "plt.ylabel('Время в секундах')\n",
    "plt.xticks([0, 1], ['yes', 'no']);"
   ],
   "metadata": {
    "collapsed": false
   }
  },
  {
   "cell_type": "code",
   "execution_count": null,
   "outputs": [],
   "source": [
    "# Готовим данные для графика\n",
    "data = df['convert'].value_counts()\n",
    "data.index = ['no', 'yes']\n",
    "data.head()"
   ],
   "metadata": {
    "collapsed": false
   }
  },
  {
   "cell_type": "code",
   "execution_count": null,
   "outputs": [],
   "source": [
    "# Строим круговую диаграмму\n",
    "\n",
    "plt.figure(figsize=(6, 4))\n",
    "\n",
    "plt.pie(data, autopct='%1.1f%%')\n",
    "\n",
    "plt.title('Доля клиентов банка, открывших депозит')\n",
    "plt.legend(data.index);"
   ],
   "metadata": {
    "collapsed": false
   }
  }
 ],
 "metadata": {
  "kernelspec": {
   "display_name": "Python 3",
   "language": "python",
   "name": "python3"
  },
  "language_info": {
   "codemirror_mode": {
    "name": "ipython",
    "version": 2
   },
   "file_extension": ".py",
   "mimetype": "text/x-python",
   "name": "python",
   "nbconvert_exporter": "python",
   "pygments_lexer": "ipython2",
   "version": "2.7.6"
  }
 },
 "nbformat": 4,
 "nbformat_minor": 0
}
