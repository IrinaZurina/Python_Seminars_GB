{
 "cells": [
  {
   "cell_type": "markdown",
   "source": [
    "Задача №57. Решение в группах\n",
    "1. Прочесть с помощью pandas файл california_housing_test.csv, который находится в папке sample_data\n",
    "2. Посмотреть сколько в нем строк и столбцов\n",
    "3. Определить какой тип данных имеют столбцы"
   ],
   "metadata": {
    "collapsed": false
   }
  },
  {
   "cell_type": "code",
   "execution_count": 9,
   "metadata": {
    "collapsed": true
   },
   "outputs": [],
   "source": [
    "import pandas as pd\n",
    "import matplotlib\n",
    "import seaborn as sns"
   ]
  },
  {
   "cell_type": "code",
   "execution_count": 52,
   "outputs": [
    {
     "data": {
      "text/plain": "   longitude  latitude  housing_median_age  total_rooms  total_bedrooms  \\\n0    -114.31     34.19                15.0       5612.0          1283.0   \n1    -114.47     34.40                19.0       7650.0          1901.0   \n2    -114.56     33.69                17.0        720.0           174.0   \n3    -114.57     33.64                14.0       1501.0           337.0   \n4    -114.57     33.57                20.0       1454.0           326.0   \n5    -114.58     33.63                29.0       1387.0           236.0   \n6    -114.58     33.61                25.0       2907.0           680.0   \n7    -114.59     34.83                41.0        812.0           168.0   \n8    -114.59     33.61                34.0       4789.0          1175.0   \n9    -114.60     34.83                46.0       1497.0           309.0   \n\n   population  households  median_income  median_house_value  \n0      1015.0       472.0         1.4936             66900.0  \n1      1129.0       463.0         1.8200             80100.0  \n2       333.0       117.0         1.6509             85700.0  \n3       515.0       226.0         3.1917             73400.0  \n4       624.0       262.0         1.9250             65500.0  \n5       671.0       239.0         3.3438             74000.0  \n6      1841.0       633.0         2.6768             82400.0  \n7       375.0       158.0         1.7083             48500.0  \n8      3134.0      1056.0         2.1782             58400.0  \n9       787.0       271.0         2.1908             48100.0  ",
      "text/html": "<div>\n<style scoped>\n    .dataframe tbody tr th:only-of-type {\n        vertical-align: middle;\n    }\n\n    .dataframe tbody tr th {\n        vertical-align: top;\n    }\n\n    .dataframe thead th {\n        text-align: right;\n    }\n</style>\n<table border=\"1\" class=\"dataframe\">\n  <thead>\n    <tr style=\"text-align: right;\">\n      <th></th>\n      <th>longitude</th>\n      <th>latitude</th>\n      <th>housing_median_age</th>\n      <th>total_rooms</th>\n      <th>total_bedrooms</th>\n      <th>population</th>\n      <th>households</th>\n      <th>median_income</th>\n      <th>median_house_value</th>\n    </tr>\n  </thead>\n  <tbody>\n    <tr>\n      <th>0</th>\n      <td>-114.31</td>\n      <td>34.19</td>\n      <td>15.0</td>\n      <td>5612.0</td>\n      <td>1283.0</td>\n      <td>1015.0</td>\n      <td>472.0</td>\n      <td>1.4936</td>\n      <td>66900.0</td>\n    </tr>\n    <tr>\n      <th>1</th>\n      <td>-114.47</td>\n      <td>34.40</td>\n      <td>19.0</td>\n      <td>7650.0</td>\n      <td>1901.0</td>\n      <td>1129.0</td>\n      <td>463.0</td>\n      <td>1.8200</td>\n      <td>80100.0</td>\n    </tr>\n    <tr>\n      <th>2</th>\n      <td>-114.56</td>\n      <td>33.69</td>\n      <td>17.0</td>\n      <td>720.0</td>\n      <td>174.0</td>\n      <td>333.0</td>\n      <td>117.0</td>\n      <td>1.6509</td>\n      <td>85700.0</td>\n    </tr>\n    <tr>\n      <th>3</th>\n      <td>-114.57</td>\n      <td>33.64</td>\n      <td>14.0</td>\n      <td>1501.0</td>\n      <td>337.0</td>\n      <td>515.0</td>\n      <td>226.0</td>\n      <td>3.1917</td>\n      <td>73400.0</td>\n    </tr>\n    <tr>\n      <th>4</th>\n      <td>-114.57</td>\n      <td>33.57</td>\n      <td>20.0</td>\n      <td>1454.0</td>\n      <td>326.0</td>\n      <td>624.0</td>\n      <td>262.0</td>\n      <td>1.9250</td>\n      <td>65500.0</td>\n    </tr>\n    <tr>\n      <th>5</th>\n      <td>-114.58</td>\n      <td>33.63</td>\n      <td>29.0</td>\n      <td>1387.0</td>\n      <td>236.0</td>\n      <td>671.0</td>\n      <td>239.0</td>\n      <td>3.3438</td>\n      <td>74000.0</td>\n    </tr>\n    <tr>\n      <th>6</th>\n      <td>-114.58</td>\n      <td>33.61</td>\n      <td>25.0</td>\n      <td>2907.0</td>\n      <td>680.0</td>\n      <td>1841.0</td>\n      <td>633.0</td>\n      <td>2.6768</td>\n      <td>82400.0</td>\n    </tr>\n    <tr>\n      <th>7</th>\n      <td>-114.59</td>\n      <td>34.83</td>\n      <td>41.0</td>\n      <td>812.0</td>\n      <td>168.0</td>\n      <td>375.0</td>\n      <td>158.0</td>\n      <td>1.7083</td>\n      <td>48500.0</td>\n    </tr>\n    <tr>\n      <th>8</th>\n      <td>-114.59</td>\n      <td>33.61</td>\n      <td>34.0</td>\n      <td>4789.0</td>\n      <td>1175.0</td>\n      <td>3134.0</td>\n      <td>1056.0</td>\n      <td>2.1782</td>\n      <td>58400.0</td>\n    </tr>\n    <tr>\n      <th>9</th>\n      <td>-114.60</td>\n      <td>34.83</td>\n      <td>46.0</td>\n      <td>1497.0</td>\n      <td>309.0</td>\n      <td>787.0</td>\n      <td>271.0</td>\n      <td>2.1908</td>\n      <td>48100.0</td>\n    </tr>\n  </tbody>\n</table>\n</div>"
     },
     "execution_count": 52,
     "metadata": {},
     "output_type": "execute_result"
    }
   ],
   "source": [
    "df = pd.read_csv('california_housing_train.csv')\n",
    "df.head(10)"
   ],
   "metadata": {
    "collapsed": false
   }
  },
  {
   "cell_type": "code",
   "execution_count": 53,
   "outputs": [
    {
     "data": {
      "text/plain": "(17000, 9)"
     },
     "execution_count": 53,
     "metadata": {},
     "output_type": "execute_result"
    }
   ],
   "source": [
    "df.shape"
   ],
   "metadata": {
    "collapsed": false
   }
  },
  {
   "cell_type": "code",
   "execution_count": 54,
   "outputs": [
    {
     "data": {
      "text/plain": "longitude             float64\nlatitude              float64\nhousing_median_age    float64\ntotal_rooms           float64\ntotal_bedrooms        float64\npopulation            float64\nhouseholds            float64\nmedian_income         float64\nmedian_house_value    float64\ndtype: object"
     },
     "execution_count": 54,
     "metadata": {},
     "output_type": "execute_result"
    }
   ],
   "source": [
    "df.dtypes"
   ],
   "metadata": {
    "collapsed": false
   }
  },
  {
   "cell_type": "markdown",
   "source": [
    "Задача №59. Решение в группах\n",
    "1. Проверить есть ли в файле пустые значения"
   ],
   "metadata": {
    "collapsed": false
   }
  },
  {
   "cell_type": "code",
   "execution_count": 56,
   "outputs": [
    {
     "data": {
      "text/plain": "longitude             0\nlatitude              0\nhousing_median_age    0\ntotal_rooms           0\ntotal_bedrooms        0\npopulation            0\nhouseholds            0\nmedian_income         0\nmedian_house_value    0\ndtype: int64"
     },
     "execution_count": 56,
     "metadata": {},
     "output_type": "execute_result"
    }
   ],
   "source": [
    "df.isnull().sum()"
   ],
   "metadata": {
    "collapsed": false
   }
  },
  {
   "cell_type": "markdown",
   "source": [
    "2. Показать median_house_value где median_income < 2"
   ],
   "metadata": {
    "collapsed": false
   }
  },
  {
   "cell_type": "code",
   "execution_count": 71,
   "outputs": [
    {
     "data": {
      "text/plain": "       median_income  median_house_value\n0             1.4936             66900.0\n1             1.8200             80100.0\n2             1.6509             85700.0\n4             1.9250             65500.0\n7             1.7083             48500.0\n...              ...                 ...\n16984         1.8242             70000.0\n16989         1.6528             58100.0\n16990         1.7038             78300.0\n16994         1.9417             76100.0\n16998         1.9797             85800.0\n\n[2005 rows x 2 columns]",
      "text/html": "<div>\n<style scoped>\n    .dataframe tbody tr th:only-of-type {\n        vertical-align: middle;\n    }\n\n    .dataframe tbody tr th {\n        vertical-align: top;\n    }\n\n    .dataframe thead th {\n        text-align: right;\n    }\n</style>\n<table border=\"1\" class=\"dataframe\">\n  <thead>\n    <tr style=\"text-align: right;\">\n      <th></th>\n      <th>median_income</th>\n      <th>median_house_value</th>\n    </tr>\n  </thead>\n  <tbody>\n    <tr>\n      <th>0</th>\n      <td>1.4936</td>\n      <td>66900.0</td>\n    </tr>\n    <tr>\n      <th>1</th>\n      <td>1.8200</td>\n      <td>80100.0</td>\n    </tr>\n    <tr>\n      <th>2</th>\n      <td>1.6509</td>\n      <td>85700.0</td>\n    </tr>\n    <tr>\n      <th>4</th>\n      <td>1.9250</td>\n      <td>65500.0</td>\n    </tr>\n    <tr>\n      <th>7</th>\n      <td>1.7083</td>\n      <td>48500.0</td>\n    </tr>\n    <tr>\n      <th>...</th>\n      <td>...</td>\n      <td>...</td>\n    </tr>\n    <tr>\n      <th>16984</th>\n      <td>1.8242</td>\n      <td>70000.0</td>\n    </tr>\n    <tr>\n      <th>16989</th>\n      <td>1.6528</td>\n      <td>58100.0</td>\n    </tr>\n    <tr>\n      <th>16990</th>\n      <td>1.7038</td>\n      <td>78300.0</td>\n    </tr>\n    <tr>\n      <th>16994</th>\n      <td>1.9417</td>\n      <td>76100.0</td>\n    </tr>\n    <tr>\n      <th>16998</th>\n      <td>1.9797</td>\n      <td>85800.0</td>\n    </tr>\n  </tbody>\n</table>\n<p>2005 rows × 2 columns</p>\n</div>"
     },
     "execution_count": 71,
     "metadata": {},
     "output_type": "execute_result"
    }
   ],
   "source": [
    "df.loc[df.median_income < 2, ['median_income', 'median_house_value']]"
   ],
   "metadata": {
    "collapsed": false
   }
  },
  {
   "cell_type": "markdown",
   "source": [
    "3. Показать данные в первых 2 столбцах"
   ],
   "metadata": {
    "collapsed": false
   }
  },
  {
   "cell_type": "code",
   "execution_count": 70,
   "outputs": [
    {
     "data": {
      "text/plain": "       longitude  latitude\n0        -114.31     34.19\n1        -114.47     34.40\n2        -114.56     33.69\n3        -114.57     33.64\n4        -114.57     33.57\n...          ...       ...\n16995    -124.26     40.58\n16996    -124.27     40.69\n16997    -124.30     41.84\n16998    -124.30     41.80\n16999    -124.35     40.54\n\n[17000 rows x 2 columns]",
      "text/html": "<div>\n<style scoped>\n    .dataframe tbody tr th:only-of-type {\n        vertical-align: middle;\n    }\n\n    .dataframe tbody tr th {\n        vertical-align: top;\n    }\n\n    .dataframe thead th {\n        text-align: right;\n    }\n</style>\n<table border=\"1\" class=\"dataframe\">\n  <thead>\n    <tr style=\"text-align: right;\">\n      <th></th>\n      <th>longitude</th>\n      <th>latitude</th>\n    </tr>\n  </thead>\n  <tbody>\n    <tr>\n      <th>0</th>\n      <td>-114.31</td>\n      <td>34.19</td>\n    </tr>\n    <tr>\n      <th>1</th>\n      <td>-114.47</td>\n      <td>34.40</td>\n    </tr>\n    <tr>\n      <th>2</th>\n      <td>-114.56</td>\n      <td>33.69</td>\n    </tr>\n    <tr>\n      <th>3</th>\n      <td>-114.57</td>\n      <td>33.64</td>\n    </tr>\n    <tr>\n      <th>4</th>\n      <td>-114.57</td>\n      <td>33.57</td>\n    </tr>\n    <tr>\n      <th>...</th>\n      <td>...</td>\n      <td>...</td>\n    </tr>\n    <tr>\n      <th>16995</th>\n      <td>-124.26</td>\n      <td>40.58</td>\n    </tr>\n    <tr>\n      <th>16996</th>\n      <td>-124.27</td>\n      <td>40.69</td>\n    </tr>\n    <tr>\n      <th>16997</th>\n      <td>-124.30</td>\n      <td>41.84</td>\n    </tr>\n    <tr>\n      <th>16998</th>\n      <td>-124.30</td>\n      <td>41.80</td>\n    </tr>\n    <tr>\n      <th>16999</th>\n      <td>-124.35</td>\n      <td>40.54</td>\n    </tr>\n  </tbody>\n</table>\n<p>17000 rows × 2 columns</p>\n</div>"
     },
     "execution_count": 70,
     "metadata": {},
     "output_type": "execute_result"
    }
   ],
   "source": [
    "df.iloc[ : , 0:2]"
   ],
   "metadata": {
    "collapsed": false
   }
  },
  {
   "cell_type": "markdown",
   "source": [
    "4. Выбрать данные где housing_median_age < 20 и median_house_value > 70000"
   ],
   "metadata": {
    "collapsed": false
   }
  },
  {
   "cell_type": "code",
   "execution_count": 74,
   "outputs": [
    {
     "data": {
      "text/plain": "       longitude  latitude  housing_median_age  total_rooms  total_bedrooms  \\\n1        -114.47     34.40                19.0       7650.0          1901.0   \n2        -114.56     33.69                17.0        720.0           174.0   \n3        -114.57     33.64                14.0       1501.0           337.0   \n10       -114.60     33.62                16.0       3741.0           801.0   \n23       -114.98     33.82                15.0        644.0           129.0   \n...          ...       ...                 ...          ...             ...   \n16976    -124.17     40.75                13.0       2171.0           339.0   \n16983    -124.19     41.78                15.0       3140.0           714.0   \n16991    -124.23     41.75                11.0       3159.0           616.0   \n16997    -124.30     41.84                17.0       2677.0           531.0   \n16998    -124.30     41.80                19.0       2672.0           552.0   \n\n       population  households  median_income  median_house_value  \n1          1129.0       463.0         1.8200             80100.0  \n2           333.0       117.0         1.6509             85700.0  \n3           515.0       226.0         3.1917             73400.0  \n10         2434.0       824.0         2.6797             86500.0  \n23          137.0        52.0         3.2097             71300.0  \n...           ...         ...            ...                 ...  \n16976       951.0       353.0         4.8516            116100.0  \n16983      1645.0       640.0         1.6654             74600.0  \n16991      1343.0       479.0         2.4805             73200.0  \n16997      1244.0       456.0         3.0313            103600.0  \n16998      1298.0       478.0         1.9797             85800.0  \n\n[4595 rows x 9 columns]",
      "text/html": "<div>\n<style scoped>\n    .dataframe tbody tr th:only-of-type {\n        vertical-align: middle;\n    }\n\n    .dataframe tbody tr th {\n        vertical-align: top;\n    }\n\n    .dataframe thead th {\n        text-align: right;\n    }\n</style>\n<table border=\"1\" class=\"dataframe\">\n  <thead>\n    <tr style=\"text-align: right;\">\n      <th></th>\n      <th>longitude</th>\n      <th>latitude</th>\n      <th>housing_median_age</th>\n      <th>total_rooms</th>\n      <th>total_bedrooms</th>\n      <th>population</th>\n      <th>households</th>\n      <th>median_income</th>\n      <th>median_house_value</th>\n    </tr>\n  </thead>\n  <tbody>\n    <tr>\n      <th>1</th>\n      <td>-114.47</td>\n      <td>34.40</td>\n      <td>19.0</td>\n      <td>7650.0</td>\n      <td>1901.0</td>\n      <td>1129.0</td>\n      <td>463.0</td>\n      <td>1.8200</td>\n      <td>80100.0</td>\n    </tr>\n    <tr>\n      <th>2</th>\n      <td>-114.56</td>\n      <td>33.69</td>\n      <td>17.0</td>\n      <td>720.0</td>\n      <td>174.0</td>\n      <td>333.0</td>\n      <td>117.0</td>\n      <td>1.6509</td>\n      <td>85700.0</td>\n    </tr>\n    <tr>\n      <th>3</th>\n      <td>-114.57</td>\n      <td>33.64</td>\n      <td>14.0</td>\n      <td>1501.0</td>\n      <td>337.0</td>\n      <td>515.0</td>\n      <td>226.0</td>\n      <td>3.1917</td>\n      <td>73400.0</td>\n    </tr>\n    <tr>\n      <th>10</th>\n      <td>-114.60</td>\n      <td>33.62</td>\n      <td>16.0</td>\n      <td>3741.0</td>\n      <td>801.0</td>\n      <td>2434.0</td>\n      <td>824.0</td>\n      <td>2.6797</td>\n      <td>86500.0</td>\n    </tr>\n    <tr>\n      <th>23</th>\n      <td>-114.98</td>\n      <td>33.82</td>\n      <td>15.0</td>\n      <td>644.0</td>\n      <td>129.0</td>\n      <td>137.0</td>\n      <td>52.0</td>\n      <td>3.2097</td>\n      <td>71300.0</td>\n    </tr>\n    <tr>\n      <th>...</th>\n      <td>...</td>\n      <td>...</td>\n      <td>...</td>\n      <td>...</td>\n      <td>...</td>\n      <td>...</td>\n      <td>...</td>\n      <td>...</td>\n      <td>...</td>\n    </tr>\n    <tr>\n      <th>16976</th>\n      <td>-124.17</td>\n      <td>40.75</td>\n      <td>13.0</td>\n      <td>2171.0</td>\n      <td>339.0</td>\n      <td>951.0</td>\n      <td>353.0</td>\n      <td>4.8516</td>\n      <td>116100.0</td>\n    </tr>\n    <tr>\n      <th>16983</th>\n      <td>-124.19</td>\n      <td>41.78</td>\n      <td>15.0</td>\n      <td>3140.0</td>\n      <td>714.0</td>\n      <td>1645.0</td>\n      <td>640.0</td>\n      <td>1.6654</td>\n      <td>74600.0</td>\n    </tr>\n    <tr>\n      <th>16991</th>\n      <td>-124.23</td>\n      <td>41.75</td>\n      <td>11.0</td>\n      <td>3159.0</td>\n      <td>616.0</td>\n      <td>1343.0</td>\n      <td>479.0</td>\n      <td>2.4805</td>\n      <td>73200.0</td>\n    </tr>\n    <tr>\n      <th>16997</th>\n      <td>-124.30</td>\n      <td>41.84</td>\n      <td>17.0</td>\n      <td>2677.0</td>\n      <td>531.0</td>\n      <td>1244.0</td>\n      <td>456.0</td>\n      <td>3.0313</td>\n      <td>103600.0</td>\n    </tr>\n    <tr>\n      <th>16998</th>\n      <td>-124.30</td>\n      <td>41.80</td>\n      <td>19.0</td>\n      <td>2672.0</td>\n      <td>552.0</td>\n      <td>1298.0</td>\n      <td>478.0</td>\n      <td>1.9797</td>\n      <td>85800.0</td>\n    </tr>\n  </tbody>\n</table>\n<p>4595 rows × 9 columns</p>\n</div>"
     },
     "execution_count": 74,
     "metadata": {},
     "output_type": "execute_result"
    }
   ],
   "source": [
    "df.loc[(df.housing_median_age < 20) & (df.median_house_value > 70000)]"
   ],
   "metadata": {
    "collapsed": false
   }
  },
  {
   "cell_type": "markdown",
   "source": [
    "Задача №61. Решение в группах\n",
    "1. Определить какое максимальное и минимальное значение median_house_value"
   ],
   "metadata": {
    "collapsed": false
   }
  },
  {
   "cell_type": "code",
   "execution_count": 76,
   "outputs": [
    {
     "data": {
      "text/plain": "(500001.0, 14999.0)"
     },
     "execution_count": 76,
     "metadata": {},
     "output_type": "execute_result"
    }
   ],
   "source": [
    "df.median_house_value.max(), df.median_house_value.min()"
   ],
   "metadata": {
    "collapsed": false
   }
  },
  {
   "cell_type": "markdown",
   "source": [
    "2. Показать максимальное median_house_value, где median_income = 3.1250"
   ],
   "metadata": {
    "collapsed": false
   }
  },
  {
   "cell_type": "code",
   "execution_count": 80,
   "outputs": [
    {
     "data": {
      "text/plain": "median_income              3.125\nmedian_house_value    380400.000\ndtype: float64"
     },
     "execution_count": 80,
     "metadata": {},
     "output_type": "execute_result"
    }
   ],
   "source": [
    "df.loc[(df.median_income == 3.125), ['median_income', 'median_house_value']].max()"
   ],
   "metadata": {
    "collapsed": false
   }
  },
  {
   "cell_type": "markdown",
   "source": [
    "3. Узнать какая максимальная population в зоне минимального значения median_house_value"
   ],
   "metadata": {
    "collapsed": false
   }
  },
  {
   "cell_type": "code",
   "execution_count": 86,
   "outputs": [
    {
     "data": {
      "text/plain": "28566.0"
     },
     "execution_count": 86,
     "metadata": {},
     "output_type": "execute_result"
    }
   ],
   "source": [
    "df1 = df.loc[df.median_house_value < df.median_house_value.quantile(.25)]\n",
    "df1.population.max()"
   ],
   "metadata": {
    "collapsed": false
   }
  }
 ],
 "metadata": {
  "kernelspec": {
   "display_name": "Python 3",
   "language": "python",
   "name": "python3"
  },
  "language_info": {
   "codemirror_mode": {
    "name": "ipython",
    "version": 2
   },
   "file_extension": ".py",
   "mimetype": "text/x-python",
   "name": "python",
   "nbconvert_exporter": "python",
   "pygments_lexer": "ipython2",
   "version": "2.7.6"
  }
 },
 "nbformat": 4,
 "nbformat_minor": 0
}
